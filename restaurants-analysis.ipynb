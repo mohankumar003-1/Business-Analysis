{
 "cells": [
  {
   "cell_type": "code",
   "execution_count": 4,
   "id": "22091668",
   "metadata": {},
   "outputs": [],
   "source": [
    "import pandas as pd\n",
    "import numpy as np\n",
    "import torch\n",
    "import matplotlib.pyplot as plt"
   ]
  },
  {
   "cell_type": "markdown",
   "id": "bbdc4a24",
   "metadata": {},
   "source": [
    "1.A customer is coming\n",
    "-> At some time\n",
    "What is the Food he may order (FastFood or beverages)\n",
    "\n",
    "\n",
    "2.How to increase the revenue"
   ]
  },
  {
   "cell_type": "code",
   "execution_count": 2,
   "id": "3f4c9443",
   "metadata": {},
   "outputs": [],
   "source": [
    "df = pd.read_csv('dataset.csv')"
   ]
  },
  {
   "cell_type": "code",
   "execution_count": 3,
   "id": "3451bcd6",
   "metadata": {},
   "outputs": [
    {
     "data": {
      "text/html": [
       "<div>\n",
       "<style scoped>\n",
       "    .dataframe tbody tr th:only-of-type {\n",
       "        vertical-align: middle;\n",
       "    }\n",
       "\n",
       "    .dataframe tbody tr th {\n",
       "        vertical-align: top;\n",
       "    }\n",
       "\n",
       "    .dataframe thead th {\n",
       "        text-align: right;\n",
       "    }\n",
       "</style>\n",
       "<table border=\"1\" class=\"dataframe\">\n",
       "  <thead>\n",
       "    <tr style=\"text-align: right;\">\n",
       "      <th></th>\n",
       "      <th>order_id</th>\n",
       "      <th>date</th>\n",
       "      <th>item_name</th>\n",
       "      <th>item_type</th>\n",
       "      <th>item_price</th>\n",
       "      <th>quantity</th>\n",
       "      <th>transaction_amount</th>\n",
       "      <th>transaction_type</th>\n",
       "      <th>received_by</th>\n",
       "      <th>time_of_sale</th>\n",
       "    </tr>\n",
       "  </thead>\n",
       "  <tbody>\n",
       "    <tr>\n",
       "      <th>0</th>\n",
       "      <td>1</td>\n",
       "      <td>07-03-2022</td>\n",
       "      <td>Aalopuri</td>\n",
       "      <td>Fastfood</td>\n",
       "      <td>20</td>\n",
       "      <td>13</td>\n",
       "      <td>260</td>\n",
       "      <td>NaN</td>\n",
       "      <td>Mr.</td>\n",
       "      <td>Night</td>\n",
       "    </tr>\n",
       "    <tr>\n",
       "      <th>1</th>\n",
       "      <td>2</td>\n",
       "      <td>8/23/2022</td>\n",
       "      <td>Vadapav</td>\n",
       "      <td>Fastfood</td>\n",
       "      <td>20</td>\n",
       "      <td>15</td>\n",
       "      <td>300</td>\n",
       "      <td>Cash</td>\n",
       "      <td>Mr.</td>\n",
       "      <td>Afternoon</td>\n",
       "    </tr>\n",
       "    <tr>\n",
       "      <th>2</th>\n",
       "      <td>3</td>\n",
       "      <td>11/20/2022</td>\n",
       "      <td>Vadapav</td>\n",
       "      <td>Fastfood</td>\n",
       "      <td>20</td>\n",
       "      <td>1</td>\n",
       "      <td>20</td>\n",
       "      <td>Cash</td>\n",
       "      <td>Mr.</td>\n",
       "      <td>Afternoon</td>\n",
       "    </tr>\n",
       "    <tr>\n",
       "      <th>3</th>\n",
       "      <td>4</td>\n",
       "      <td>02-03-2023</td>\n",
       "      <td>Sugarcane juice</td>\n",
       "      <td>Beverages</td>\n",
       "      <td>25</td>\n",
       "      <td>6</td>\n",
       "      <td>150</td>\n",
       "      <td>Online</td>\n",
       "      <td>Mr.</td>\n",
       "      <td>Night</td>\n",
       "    </tr>\n",
       "    <tr>\n",
       "      <th>4</th>\n",
       "      <td>5</td>\n",
       "      <td>10-02-2022</td>\n",
       "      <td>Sugarcane juice</td>\n",
       "      <td>Beverages</td>\n",
       "      <td>25</td>\n",
       "      <td>8</td>\n",
       "      <td>200</td>\n",
       "      <td>Online</td>\n",
       "      <td>Mr.</td>\n",
       "      <td>Evening</td>\n",
       "    </tr>\n",
       "    <tr>\n",
       "      <th>...</th>\n",
       "      <td>...</td>\n",
       "      <td>...</td>\n",
       "      <td>...</td>\n",
       "      <td>...</td>\n",
       "      <td>...</td>\n",
       "      <td>...</td>\n",
       "      <td>...</td>\n",
       "      <td>...</td>\n",
       "      <td>...</td>\n",
       "      <td>...</td>\n",
       "    </tr>\n",
       "    <tr>\n",
       "      <th>995</th>\n",
       "      <td>996</td>\n",
       "      <td>3/19/2023</td>\n",
       "      <td>Frankie</td>\n",
       "      <td>Fastfood</td>\n",
       "      <td>50</td>\n",
       "      <td>10</td>\n",
       "      <td>500</td>\n",
       "      <td>NaN</td>\n",
       "      <td>Mrs.</td>\n",
       "      <td>Evening</td>\n",
       "    </tr>\n",
       "    <tr>\n",
       "      <th>996</th>\n",
       "      <td>997</td>\n",
       "      <td>9/20/2022</td>\n",
       "      <td>Sandwich</td>\n",
       "      <td>Fastfood</td>\n",
       "      <td>60</td>\n",
       "      <td>7</td>\n",
       "      <td>420</td>\n",
       "      <td>NaN</td>\n",
       "      <td>Mr.</td>\n",
       "      <td>Evening</td>\n",
       "    </tr>\n",
       "    <tr>\n",
       "      <th>997</th>\n",
       "      <td>998</td>\n",
       "      <td>1/26/2023</td>\n",
       "      <td>Sandwich</td>\n",
       "      <td>Fastfood</td>\n",
       "      <td>60</td>\n",
       "      <td>13</td>\n",
       "      <td>780</td>\n",
       "      <td>NaN</td>\n",
       "      <td>Mr.</td>\n",
       "      <td>Evening</td>\n",
       "    </tr>\n",
       "    <tr>\n",
       "      <th>998</th>\n",
       "      <td>999</td>\n",
       "      <td>8/27/2022</td>\n",
       "      <td>Panipuri</td>\n",
       "      <td>Fastfood</td>\n",
       "      <td>20</td>\n",
       "      <td>5</td>\n",
       "      <td>100</td>\n",
       "      <td>NaN</td>\n",
       "      <td>Mrs.</td>\n",
       "      <td>Afternoon</td>\n",
       "    </tr>\n",
       "    <tr>\n",
       "      <th>999</th>\n",
       "      <td>1000</td>\n",
       "      <td>5/29/2022</td>\n",
       "      <td>Aalopuri</td>\n",
       "      <td>Fastfood</td>\n",
       "      <td>20</td>\n",
       "      <td>3</td>\n",
       "      <td>60</td>\n",
       "      <td>Online</td>\n",
       "      <td>Mrs.</td>\n",
       "      <td>Midnight</td>\n",
       "    </tr>\n",
       "  </tbody>\n",
       "</table>\n",
       "<p>1000 rows × 10 columns</p>\n",
       "</div>"
      ],
      "text/plain": [
       "     order_id        date        item_name  item_type  item_price  quantity  \\\n",
       "0           1  07-03-2022         Aalopuri   Fastfood          20        13   \n",
       "1           2   8/23/2022          Vadapav   Fastfood          20        15   \n",
       "2           3  11/20/2022          Vadapav   Fastfood          20         1   \n",
       "3           4  02-03-2023  Sugarcane juice  Beverages          25         6   \n",
       "4           5  10-02-2022  Sugarcane juice  Beverages          25         8   \n",
       "..        ...         ...              ...        ...         ...       ...   \n",
       "995       996   3/19/2023          Frankie   Fastfood          50        10   \n",
       "996       997   9/20/2022         Sandwich   Fastfood          60         7   \n",
       "997       998   1/26/2023         Sandwich   Fastfood          60        13   \n",
       "998       999   8/27/2022         Panipuri   Fastfood          20         5   \n",
       "999      1000   5/29/2022         Aalopuri   Fastfood          20         3   \n",
       "\n",
       "     transaction_amount transaction_type received_by time_of_sale  \n",
       "0                   260              NaN         Mr.        Night  \n",
       "1                   300             Cash         Mr.    Afternoon  \n",
       "2                    20             Cash         Mr.    Afternoon  \n",
       "3                   150           Online         Mr.        Night  \n",
       "4                   200           Online         Mr.      Evening  \n",
       "..                  ...              ...         ...          ...  \n",
       "995                 500              NaN        Mrs.      Evening  \n",
       "996                 420              NaN         Mr.      Evening  \n",
       "997                 780              NaN         Mr.      Evening  \n",
       "998                 100              NaN        Mrs.    Afternoon  \n",
       "999                  60           Online        Mrs.     Midnight  \n",
       "\n",
       "[1000 rows x 10 columns]"
      ]
     },
     "execution_count": 3,
     "metadata": {},
     "output_type": "execute_result"
    }
   ],
   "source": [
    "df"
   ]
  },
  {
   "cell_type": "code",
   "execution_count": 11,
   "id": "87d151b5",
   "metadata": {},
   "outputs": [
    {
     "data": {
      "text/plain": [
       "array(['Aalopuri', 'Vadapav', 'Sugarcane juice', 'Panipuri', 'Frankie',\n",
       "       'Sandwich', 'Cold coffee'], dtype=object)"
      ]
     },
     "execution_count": 11,
     "metadata": {},
     "output_type": "execute_result"
    }
   ],
   "source": [
    "df['item_name'].unique()"
   ]
  },
  {
   "cell_type": "code",
   "execution_count": 7,
   "id": "30cdb26e",
   "metadata": {},
   "outputs": [
    {
     "data": {
      "text/plain": [
       "array(['Fastfood', 'Beverages'], dtype=object)"
      ]
     },
     "execution_count": 7,
     "metadata": {},
     "output_type": "execute_result"
    }
   ],
   "source": [
    "df['item_type'].unique()"
   ]
  },
  {
   "cell_type": "code",
   "execution_count": 22,
   "id": "e74a9f96",
   "metadata": {},
   "outputs": [],
   "source": [
    "food_type_mapping = {}\n",
    "count_of_each_food = {}\n",
    "for x, y in zip(df['item_name'], df['item_type']):\n",
    "    if x not in  food_type_mapping:\n",
    "        food_type_mapping[x] = y\n",
    "        count_of_each_food[x] = 1\n",
    "    else:\n",
    "        count_of_each_food[x] +=1\n",
    "\n"
   ]
  },
  {
   "cell_type": "code",
   "execution_count": 23,
   "id": "e04765a7",
   "metadata": {},
   "outputs": [
    {
     "data": {
      "text/plain": [
       "{'Aalopuri': 134,\n",
       " 'Vadapav': 134,\n",
       " 'Sugarcane juice': 153,\n",
       " 'Panipuri': 150,\n",
       " 'Frankie': 139,\n",
       " 'Sandwich': 129,\n",
       " 'Cold coffee': 161}"
      ]
     },
     "execution_count": 23,
     "metadata": {},
     "output_type": "execute_result"
    }
   ],
   "source": [
    "food_type_mapping\n",
    "count_of_each_food"
   ]
  },
  {
   "cell_type": "code",
   "execution_count": 27,
   "id": "73eacc47",
   "metadata": {},
   "outputs": [
    {
     "data": {
      "text/plain": [
       "0"
      ]
     },
     "execution_count": 27,
     "metadata": {},
     "output_type": "execute_result"
    }
   ],
   "source": [
    "df['item_name'].isnull().sum()"
   ]
  },
  {
   "cell_type": "code",
   "execution_count": 37,
   "id": "a21c489a",
   "metadata": {},
   "outputs": [
    {
     "data": {
      "image/png": "[encoded data removed]",
      "text/plain": [
       "<Figure size 400x400 with 1 Axes>"
      ]
     },
     "metadata": {},
     "output_type": "display_data"
    }
   ],
   "source": [
    "food_items = list(count_of_each_food.keys())\n",
    "values = list(count_of_each_food.values())\n",
    "\n",
    "# Plot the data\n",
    "plt.figure(figsize=(4, 4))\n",
    "plt.pie(values, labels=food_items, autopct='%1.1f%%', startangle=90, colors=plt.cm.Paired.colors)\n",
    "\n",
    "# Adding a title\n",
    "plt.title('Food Items and Their Proportions')\n",
    "\n",
    "# Equal aspect ratio ensures that pie chart is drawn as a circle.\n",
    "plt.axis('equal')\n",
    "\n",
    "# Display the pie chart\n",
    "plt.show()"
   ]
  },
  {
   "cell_type": "code",
   "execution_count": 38,
   "id": "412b2749",
   "metadata": {},
   "outputs": [],
   "source": [
    "sales_during_time = {}\n",
    "for x, y in zip(df['time_of_sale'], df['transaction_amount']):\n",
    "    if x not in  sales_during_time:\n",
    "        sales_during_time[x] = y\n",
    "    else:\n",
    "        sales_during_time[x] +=y"
   ]
  },
  {
   "cell_type": "code",
   "execution_count": 39,
   "id": "bd7f719f",
   "metadata": {},
   "outputs": [
    {
     "data": {
      "text/plain": [
       "{'Night': 62075,\n",
       " 'Afternoon': 56345,\n",
       " 'Evening': 52355,\n",
       " 'Morning': 53730,\n",
       " 'Midnight': 50725}"
      ]
     },
     "execution_count": 39,
     "metadata": {},
     "output_type": "execute_result"
    }
   ],
   "source": [
    "sales_during_time"
   ]
  },
  {
   "cell_type": "code",
   "execution_count": 40,
   "id": "8dbca444",
   "metadata": {},
   "outputs": [
    {
     "data": {
      "image/png": "[encoded data removed]",
      "text/plain": [
       "<Figure size 400x400 with 1 Axes>"
      ]
     },
     "metadata": {},
     "output_type": "display_data"
    }
   ],
   "source": [
    "time = list(sales_during_time.keys())\n",
    "values = list(sales_during_time.values())\n",
    "\n",
    "# Plot the data\n",
    "plt.figure(figsize=(4, 4))\n",
    "plt.pie(values, labels=time, autopct='%1.1f%%', startangle=90, colors=plt.cm.Paired.colors)\n",
    "\n",
    "# Adding a title\n",
    "plt.title('Time where the most sales happened')\n",
    "\n",
    "# Equal aspect ratio ensures that pie chart is drawn as a circle.\n",
    "plt.axis('equal')\n",
    "\n",
    "# Display the pie chart\n",
    "plt.show()"
   ]
  },
  {
   "cell_type": "code",
   "execution_count": null,
   "id": "c9cadfa9",
   "metadata": {},
   "outputs": [],
   "source": [
    "staff_variation = {}\n",
    "for x, y in zip(df['received_by'], df['transaction_amount']):\n",
    "    if x not in  food_type_mapping:\n",
    "        food_type_mapping[x] = y\n",
    "        count_of_each_food[x] = 1\n",
    "    else:\n",
    "        count_of_each_food[x] +=1\n",
    "\n"
   ]
  }
 ],
 "metadata": {
  "kernelspec": {
   "display_name": "Python 3 (ipykernel)",
   "language": "python",
   "name": "python3"
  },
  "language_info": {
   "codemirror_mode": {
    "name": "ipython",
    "version": 3
   },
   "file_extension": ".py",
   "mimetype": "text/x-python",
   "name": "python",
   "nbconvert_exporter": "python",
   "pygments_lexer": "ipython3",
   "version": "3.10.6"
  }
 },
 "nbformat": 4,
 "nbformat_minor": 5
}
